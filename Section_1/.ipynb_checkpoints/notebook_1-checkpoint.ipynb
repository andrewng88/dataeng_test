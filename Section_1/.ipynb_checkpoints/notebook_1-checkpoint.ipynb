{
 "cells": [
  {
   "cell_type": "code",
   "execution_count": 1,
   "metadata": {},
   "outputs": [],
   "source": [
    "import glob\n",
    "import os\n",
    "import pandas as pd #we need to pip install later\n",
    "from datetime import datetime"
   ]
  },
  {
   "cell_type": "code",
   "execution_count": 2,
   "metadata": {},
   "outputs": [],
   "source": [
    "# we obtain the latest file\n",
    "# no need to write checks on the running number\n",
    "# hacked from https://stackoverflow.com/questions/39327032/how-to-get-the-latest-file-in-a-folder\n",
    "\n",
    "list_of_files = glob.glob('upload/*.csv') # * check files that is *.csv\n",
    "latest_file = max(list_of_files, key=os.path.getctime)"
   ]
  },
  {
   "cell_type": "code",
   "execution_count": 3,
   "metadata": {},
   "outputs": [],
   "source": [
    "# read_csv\n",
    "df = pd.read_csv(latest_file)"
   ]
  },
  {
   "cell_type": "markdown",
   "metadata": {},
   "source": [
    "## Identified sone of the Problematic fields by eyeballing\n",
    "<li>Ms. Stacey Wiley DDS\n",
    "<li>Melissa Johnson DDS\n",
    "<li>Mrs. Jennifer Rodriguez\n",
    "<li>Teresa Wright DVM\n",
    "<li>Justin Knox MD\n",
    "<li>Savannah Mendoza PhD\n",
    "<li>Dr. Thomas Campbell MD\n",
    "<li>Mrs. Carmen Clark\n",
    "<li>Mr. Scott Martinez\n",
    "<li>Mrs. Jessica Gibson DDS\n",
    "<li>Miss Monica Mcdonald\n",
    "<li>Preston Ferguson III"
   ]
  },
  {
   "cell_type": "code",
   "execution_count": 4,
   "metadata": {},
   "outputs": [],
   "source": [
    "#Delete any rows which do not have a name\n",
    "df.dropna(subset = [\"name\"], inplace=True)"
   ]
  },
  {
   "cell_type": "code",
   "execution_count": 5,
   "metadata": {},
   "outputs": [],
   "source": [
    "#Split the name field into first_name, and last_name"
   ]
  },
  {
   "cell_type": "code",
   "execution_count": 6,
   "metadata": {},
   "outputs": [],
   "source": [
    "def replacement(cell):\n",
    "    '''\n",
    "    input cell from df\n",
    "    \n",
    "    this function helps to replace the list of words in to_replace with ''\n",
    "    '''\n",
    "    to_replace = ['Ms.','Mrs.','Dr.','Miss','Mr.','DDS','DVM','MD','III','PhD','Jr.','II','IV']\n",
    "    lst =[]\n",
    "    \n",
    "    # cycle through the names to replace with ''\n",
    "    for word in cell.split(' '):\n",
    "        if word not in to_replace:\n",
    "            lst.append(word)\n",
    "    return \" \".join(lst)\n",
    "\n",
    "#run the function\n",
    "df['name'] = df['name'].apply(lambda x : replacement(x))"
   ]
  },
  {
   "cell_type": "code",
   "execution_count": 7,
   "metadata": {},
   "outputs": [],
   "source": [
    "# concat back the files together\n",
    "temp = df.name.str.split(expand=True)\n",
    "df= pd.concat([temp,df],axis=1)\n",
    "\n",
    "# delete the original column that is not useful\n",
    "del df['name']\n",
    "\n",
    "# rename the columns\n",
    "df.columns = ['first_name','last_name','price']"
   ]
  },
  {
   "cell_type": "code",
   "execution_count": 8,
   "metadata": {},
   "outputs": [],
   "source": [
    "# Remove any zeros prepended to the price field\n",
    "# convert to str so that we can lstrip ( strip leading whitespace)\n",
    "# then we convert back to float(original)\n",
    "df['price'] = df['price'].astype(str).str.lstrip().astype(float)"
   ]
  },
  {
   "cell_type": "code",
   "execution_count": 9,
   "metadata": {},
   "outputs": [],
   "source": [
    "# Create a new field named above_100, which is true if the price is strictly greater than 100\n",
    "df['price'] = df['price'].apply(lambda x : 'true' if x >100 else '')"
   ]
  },
  {
   "cell_type": "code",
   "execution_count": 10,
   "metadata": {},
   "outputs": [
    {
     "data": {
      "text/plain": [
       "'cleaned\\\\dataset1.csv'"
      ]
     },
     "execution_count": 10,
     "metadata": {},
     "output_type": "execute_result"
    }
   ],
   "source": [
    "# change the directory to 'cleaned'\n",
    "latest_file.replace('upload','cleaned')"
   ]
  },
  {
   "cell_type": "code",
   "execution_count": 11,
   "metadata": {},
   "outputs": [],
   "source": [
    "# save to a new csv and not overwrite the original so that we can refer to it next time\n",
    "latest_file= latest_file.replace('upload','cleaned')\n",
    "df.to_csv(latest_file,index=False)"
   ]
  },
  {
   "cell_type": "code",
   "execution_count": 12,
   "metadata": {},
   "outputs": [
    {
     "name": "stdout",
     "output_type": "stream",
     "text": [
      "File 'cleaned\\dataset1.csv' sanitized by Clorox on 31/07/2021 01:12:57\n"
     ]
    }
   ],
   "source": [
    "# verbose\n",
    "# datetime object containing current date and time\n",
    "now = datetime.now()\n",
    " \n",
    "# dd/mm/YY H:M:S\n",
    "dt_string = now.strftime(\"%d/%m/%Y %H:%M:%S\")\n",
    "print(\"File '{}' sanitized by Clorox on {}\".format(latest_file,dt_string))\n"
   ]
  }
 ],
 "metadata": {
  "kernelspec": {
   "display_name": "Python 3",
   "language": "python",
   "name": "python3"
  },
  "language_info": {
   "codemirror_mode": {
    "name": "ipython",
    "version": 3
   },
   "file_extension": ".py",
   "mimetype": "text/x-python",
   "name": "python",
   "nbconvert_exporter": "python",
   "pygments_lexer": "ipython3",
   "version": "3.7.4"
  }
 },
 "nbformat": 4,
 "nbformat_minor": 2
}
